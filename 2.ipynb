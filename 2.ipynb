{
 "cells": [
  {
   "cell_type": "code",
   "execution_count": 1,
   "metadata": {},
   "outputs": [
    {
     "name": "stdout",
     "output_type": "stream",
     "text": [
      "Accuracy: 0.9580838323353293\n",
      "              precision    recall  f1-score   support\n",
      "\n",
      "           0       0.97      0.99      0.98       157\n",
      "           1       0.71      0.50      0.59        10\n",
      "\n",
      "    accuracy                           0.96       167\n",
      "   macro avg       0.84      0.74      0.78       167\n",
      "weighted avg       0.95      0.96      0.95       167\n",
      "\n",
      "Optimized Random Forest model saved!\n"
     ]
    }
   ],
   "source": [
    "#cervical cancer - random forest\n",
    "from sklearn.model_selection import train_test_split\n",
    "from sklearn.ensemble import RandomForestClassifier\n",
    "from sklearn.metrics import accuracy_score, classification_report\n",
    "import pandas as pd\n",
    "import joblib\n",
    "data = pd.read_csv(\"E:/cervical.csv\")\n",
    "# Define features and target variable\n",
    "X = data.drop(columns=['Biopsy'])  # Drop the target column from features\n",
    "y = data['Biopsy']                 # Target variable\n",
    "\n",
    "# Split data into training and testing sets\n",
    "X_train, X_test, y_train, y_test = train_test_split(X, y, test_size=0.2, random_state=42)\n",
    "\n",
    "# Model initialization and training\n",
    "model = RandomForestClassifier()\n",
    "model.fit(X_train, y_train)\n",
    "\n",
    "# Model prediction and evaluation\n",
    "y_pred = model.predict(X_test)\n",
    "print(\"Accuracy:\", accuracy_score(y_test, y_pred))\n",
    "print(classification_report(y_test, y_pred))\n",
    "joblib.dump(model, 'cervical_cancer_model.pkl')\n",
    "print(\"Optimized Random Forest model saved!\")"
   ]
  }
 ],
 "metadata": {
  "kernelspec": {
   "display_name": "Python 3",
   "language": "python",
   "name": "python3"
  },
  "language_info": {
   "codemirror_mode": {
    "name": "ipython",
    "version": 3
   },
   "file_extension": ".py",
   "mimetype": "text/x-python",
   "name": "python",
   "nbconvert_exporter": "python",
   "pygments_lexer": "ipython3",
   "version": "3.12.4"
  }
 },
 "nbformat": 4,
 "nbformat_minor": 2
}
